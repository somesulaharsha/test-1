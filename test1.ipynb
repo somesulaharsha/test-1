{
 "cells": [
  {
   "cell_type": "code",
   "execution_count": 23,
   "metadata": {},
   "outputs": [
    {
     "name": "stdout",
     "output_type": "stream",
     "text": [
      "Enter Cipher Text: niji\n",
      "Enter the Key: 2\n",
      "\n",
      "Message is:\n",
      "lghg \n"
     ]
    }
   ],
   "source": [
    "# code for Decryption of Shift Cipher\n",
    "# for caesar cipher use k = 3\n",
    "\n",
    "cipherText = input(\"Enter Cipher Text: \")\n",
    "terms = cipherText.split()\n",
    "k = int(input(\"Enter the Key: \"))\n",
    "\n",
    "plainText = \"\"\n",
    "\n",
    "for i in terms:\n",
    "    temp = []\n",
    "    for j in i:\n",
    "        if ord(j)>96:\n",
    "            temp.append(chr(((ord(j)-97-k)%26)+97))\n",
    "        else:\n",
    "            temp.append(chr(((ord(j)-65-k)%26)+65))\n",
    "    plainText += \"\".join(i for i in temp)\n",
    "    plainText += \" \"\n",
    "\n",
    "print(\"\\nMessage is:\")\n",
    "print(plainText)"
   ]
  },
  {
   "cell_type": "code",
   "execution_count": 24,
   "metadata": {},
   "outputs": [
    {
     "name": "stdout",
     "output_type": "stream",
     "text": [
      "Enter Plaintext: hi how ru\n",
      "Enter Key: 3\n",
      "\n",
      "Generated CipherText is: \n",
      "kl krz ux \n"
     ]
    }
   ],
   "source": [
    "# code for encryption using Shift Cipher\n",
    "# for caesar cipher use k = 3\n",
    "\n",
    "plainText = input(\"Enter Plaintext: \")\n",
    "terms = plainText.split()\n",
    "k = int(input(\"Enter Key: \"))\n",
    "while k>25 or k<0:\n",
    "    k = int(input(\"Key must be between 0-25(both inclusive)\\nTry Again\\nEnter Key: \"))\n",
    "\n",
    "cipherText = \"\"\n",
    "\n",
    "for i in terms:\n",
    "    temp = []\n",
    "    for j in i:\n",
    "        if ord(j)>96:\n",
    "            temp.append(chr(((ord(j)+k-97)%26)+97))\n",
    "        else:\n",
    "            temp.append(chr(((ord(j)+k-65)%26)+65))\n",
    "    cipherText += \"\".join(i for i in temp)\n",
    "    cipherText += \" \"\n",
    "print(\"\\nGenerated CipherText is: \")\n",
    "print(cipherText)\n"
   ]
  },
  {
   "cell_type": "code",
   "execution_count": 25,
   "metadata": {},
   "outputs": [
    {
     "name": "stdout",
     "output_type": "stream",
     "text": [
      "Enter Plaintext: jgjgjg\n",
      "Enter Key: 4\n",
      "\n",
      "Generated CipherText is: \n",
      "nknknk \n"
     ]
    }
   ],
   "source": [
    "# code for encryption using Shift Cipher\n",
    "# for caesar cipher use k = 3\n",
    "\n",
    "plainText = input(\"Enter Plaintext: \")\n",
    "terms = plainText.split()\n",
    "k = int(input(\"Enter Key: \"))\n",
    "while k>25 or k<0:\n",
    "    k = int(input(\"Key must be between 0-25(both inclusive)\\nTry Again\\nEnter Key: \"))\n",
    "\n",
    "cipherText = \"\"\n",
    "\n",
    "for i in terms:\n",
    "    temp = []\n",
    "    for j in i:\n",
    "        if ord(j)>96:\n",
    "            temp.append(chr(((ord(j)+k-97)%26)+97))\n",
    "        else:\n",
    "            temp.append(chr(((ord(j)+k-65)%26)+65))\n",
    "    cipherText += \"\".join(i for i in temp)\n",
    "    cipherText += \" \"\n",
    "print(\"\\nGenerated CipherText is: \")\n",
    "print(cipherText)\n"
   ]
  },
  {
   "cell_type": "code",
   "execution_count": null,
   "metadata": {},
   "outputs": [],
   "source": []
  }
 ],
 "metadata": {
  "kernelspec": {
   "display_name": "Python 3",
   "language": "python",
   "name": "python3"
  },
  "language_info": {
   "codemirror_mode": {
    "name": "ipython",
    "version": 3
   },
   "file_extension": ".py",
   "mimetype": "text/x-python",
   "name": "python",
   "nbconvert_exporter": "python",
   "pygments_lexer": "ipython3",
   "version": "3.7.1"
  }
 },
 "nbformat": 4,
 "nbformat_minor": 2
}
